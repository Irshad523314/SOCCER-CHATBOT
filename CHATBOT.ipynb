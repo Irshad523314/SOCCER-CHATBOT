{
  "nbformat": 4,
  "nbformat_minor": 0,
  "metadata": {
    "colab": {
      "provenance": [],
      "include_colab_link": true
    },
    "kernelspec": {
      "name": "python3",
      "display_name": "Python 3"
    },
    "language_info": {
      "name": "python"
    }
  },
  "cells": [
    {
      "cell_type": "markdown",
      "metadata": {
        "id": "view-in-github",
        "colab_type": "text"
      },
      "source": [
        "<a href=\"https://colab.research.google.com/github/Irshad523314/SOCCER-CHATBOT/blob/main/CHATBOT.ipynb\" target=\"_parent\"><img src=\"https://colab.research.google.com/assets/colab-badge.svg\" alt=\"Open In Colab\"/></a>"
      ]
    },
    {
      "cell_type": "code",
      "source": [],
      "metadata": {
        "id": "1LlzDhC-ZlMk"
      },
      "execution_count": null,
      "outputs": []
    },
    {
      "cell_type": "code",
      "execution_count": null,
      "metadata": {
        "id": "qv05BpJoKnyO"
      },
      "outputs": [],
      "source": [
        "import numpy as np\n",
        "import nltk\n",
        "import string\n",
        "import pandas\n",
        "import random  # Add import statement for random"
      ]
    },
    {
      "cell_type": "markdown",
      "source": [
        "reading the corpus of text"
      ],
      "metadata": {
        "id": "v1sODhAhPOel"
      }
    },
    {
      "cell_type": "code",
      "source": [
        "f = open(\"/content/football.txt\", 'r', errors=\"ignore\")\n",
        "raw_doc = f.read()"
      ],
      "metadata": {
        "id": "et9o9cEOKwaZ"
      },
      "execution_count": null,
      "outputs": []
    },
    {
      "cell_type": "code",
      "source": [
        "raw_doc = raw_doc.lower()\n",
        "nltk.download(\"punkt\")\n",
        "nltk.download(\"wordnet\")\n",
        "nltk.download('omw-1.4')\n",
        "sentence_tokens = nltk.sent_tokenize(raw_doc)\n",
        "word_tokens = nltk.word_tokenize(raw_doc)"
      ],
      "metadata": {
        "id": "ZoVtS1RyK33G"
      },
      "execution_count": null,
      "outputs": []
    },
    {
      "cell_type": "code",
      "source": [],
      "metadata": {
        "id": "wSEEAB37aN_U"
      },
      "execution_count": null,
      "outputs": []
    },
    {
      "cell_type": "markdown",
      "source": [
        "dealing with preprocessing"
      ],
      "metadata": {
        "id": "5Z7424bZaPAP"
      }
    },
    {
      "cell_type": "code",
      "source": [
        "lemmer = nltk.stem.WordNetLemmatizer()"
      ],
      "metadata": {
        "id": "Wx3pY7pULHjG"
      },
      "execution_count": null,
      "outputs": []
    },
    {
      "cell_type": "code",
      "source": [
        "def LemTokens(tokens): #removing punctuation marks\n",
        "    return [lemmer.lemmatize(token) for token in tokens]\n",
        "\n",
        "\n",
        "remove_punc_dict = dict((ord(punct), None) for punct in string.punctuation)"
      ],
      "metadata": {
        "id": "IRuKDfgjLLbz"
      },
      "execution_count": null,
      "outputs": []
    },
    {
      "cell_type": "code",
      "source": [
        "\n",
        "def LemNormalize(text):\n",
        "    return LemTokens(nltk.word_tokenize(text.lower().translate(remove_punc_dict)))\n",
        "\n",
        "#providing greetings\n",
        "greet_inputs = (\"hello\", \"hi\", \"yyo wssup\", \"how are you?\")\n",
        "greet_responses = (\"hey ask me about something\", \"hii need a quick chat about something?\", \"hey ?\", \"hello\")\n"
      ],
      "metadata": {
        "id": "O14uWJlrLeMB"
      },
      "execution_count": null,
      "outputs": []
    },
    {
      "cell_type": "code",
      "source": [
        "\n",
        "def greet(sentence):\n",
        "    for word in sentence.split():\n",
        "        if word.lower() in greet_inputs:\n",
        "            return random.choice(greet_responses)\n"
      ],
      "metadata": {
        "id": "dnqSdBtvLh2s"
      },
      "execution_count": null,
      "outputs": []
    },
    {
      "cell_type": "code",
      "source": [
        "from sklearn.feature_extraction.text import TfidfVectorizer\n",
        "from sklearn.metrics.pairwise import cosine_similarity"
      ],
      "metadata": {
        "id": "eEyInCKkLlaj"
      },
      "execution_count": null,
      "outputs": []
    },
    {
      "cell_type": "code",
      "source": [
        "#creating response from collected sentence\n",
        "def response(user_response):\n",
        "    robo1_response = \" \"\n",
        "    TfidfVec = TfidfVectorizer(tokenizer=LemNormalize, stop_words=\"english\")\n",
        "    tfidf = TfidfVec.fit_transform(sentence_tokens)\n",
        "    vals = cosine_similarity(tfidf[-1], tfidf)\n",
        "    idx = vals.argsort()[0][-2]\n",
        "    flat = vals.flatten()\n",
        "    flat.sort()\n",
        "    req_tfidf = flat[-2]\n",
        "    if req_tfidf == 0:\n",
        "        robo1_response = robo1_response + \"I am sorry, I am unable to understand you!\"\n",
        "        return robo1_response\n",
        "    else:\n",
        "        robo1_response = robo1_response + sentence_tokens[idx]\n",
        "        return robo1_response"
      ],
      "metadata": {
        "id": "9tm6DTHaLodG"
      },
      "execution_count": null,
      "outputs": []
    },
    {
      "cell_type": "code",
      "source": [
        "a"
      ],
      "metadata": {
        "id": "mG4cIcmjgENs"
      },
      "execution_count": null,
      "outputs": []
    },
    {
      "cell_type": "code",
      "source": [
        "#runnung chatbot\n",
        "flag = True\n",
        "print(\"Hello! I am your Learning BOT. Let's talk about SOCCER. For ending the convo please type bye\")\n",
        "while flag:\n",
        "    user_response = input()\n",
        "    user_response = user_response.lower()\n",
        "    if user_response != 'bye':\n",
        "        if user_response == 'thank you' or user_response == 'thanks':\n",
        "            flag = False\n",
        "            print('Bot: You are welcome')\n",
        "        else:\n",
        "            if greet(user_response) is not None:\n",
        "                print(\"Bot: \" + greet(user_response))\n",
        "            else:\n",
        "                sentence_tokens.append(user_response)\n",
        "                word_tokens = word_tokens + nltk.word_tokenize(user_response)\n",
        "                final_words = list(set(word_tokens))\n",
        "                print('Bot:', end=\" \")\n",
        "                print(response(user_response))\n",
        "                sentence_tokens.remove(user_response)\n",
        "    else:\n",
        "        flag = False\n",
        "        print(\"Bot: Goodbye!\")\n"
      ],
      "metadata": {
        "colab": {
          "base_uri": "https://localhost:8080/"
        },
        "id": "9s0kPrHYLsy8",
        "outputId": "d830816c-e776-4d71-d1ff-1b377853cf12"
      },
      "execution_count": null,
      "outputs": [
        {
          "output_type": "stream",
          "name": "stdout",
          "text": [
            "Hello! I am your Learning BOT. Let's talk about SOCCER. For ending the convo please type bye\n",
            "hi\n",
            "Bot: hello\n",
            "something about cristiano?\n",
            "Bot: "
          ]
        },
        {
          "output_type": "stream",
          "name": "stderr",
          "text": [
            "/usr/local/lib/python3.10/dist-packages/sklearn/feature_extraction/text.py:528: UserWarning: The parameter 'token_pattern' will not be used since 'tokenizer' is not None'\n",
            "  warnings.warn(\n",
            "/usr/local/lib/python3.10/dist-packages/sklearn/feature_extraction/text.py:409: UserWarning: Your stop_words may be inconsistent with your preprocessing. Tokenizing the stop words generated tokens ['ha', 'le', 'u', 'wa'] not in stop_words.\n",
            "  warnings.warn(\n"
          ]
        },
        {
          "output_type": "stream",
          "name": "stdout",
          "text": [
            " here are maximum details about cristiano ronaldo:\n",
            "\n",
            "early life: cristiano ronaldo grew up in a working-class family on the island of madeira.\n",
            "cristianos inspiration\n",
            "Bot:  I am sorry, I am unable to understand you!\n",
            "is var really necessary\n",
            "Bot:  innovations such as video assistant referees (var), digital platforms, and virtual reality training are shaping the way the sport is played, watched, and experienced.\n",
            "thanks\n",
            "Bot: You are welcome\n"
          ]
        }
      ]
    },
    {
      "cell_type": "code",
      "source": [],
      "metadata": {
        "id": "Y0_2rc6BLwwk"
      },
      "execution_count": null,
      "outputs": []
    }
  ]
}